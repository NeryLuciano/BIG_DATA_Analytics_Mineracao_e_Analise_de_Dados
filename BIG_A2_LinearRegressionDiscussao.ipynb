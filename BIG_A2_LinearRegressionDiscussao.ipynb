{
  "nbformat": 4,
  "nbformat_minor": 0,
  "metadata": {
    "colab": {
      "name": "BIG_A2_LinearRegressionDiscussao.ipynb",
      "provenance": [],
      "collapsed_sections": [],
      "include_colab_link": true
    },
    "kernelspec": {
      "name": "python3",
      "display_name": "Python 3"
    }
  },
  "cells": [
    {
      "cell_type": "markdown",
      "metadata": {
        "id": "view-in-github",
        "colab_type": "text"
      },
      "source": [
        "<a href=\"https://colab.research.google.com/github/NeryLuciano/BIG_DATA_Analytics_Mineracao_e_Analise_de_Dados/blob/main/BIG_A2_LinearRegressionDiscussao.ipynb\" target=\"_parent\"><img src=\"https://colab.research.google.com/assets/colab-badge.svg\" alt=\"Open In Colab\"/></a>"
      ]
    },
    {
      "cell_type": "markdown",
      "metadata": {
        "id": "J3LMBfpeHTwb"
      },
      "source": [
        "<head>\n",
        "  <meta name=\"author\" content=\"Rogério de Oliveira\">\n",
        "  <meta institution=\"author\" content=\"Universidade Presbiteriana Mackenzie\">\n",
        "</head>\n",
        "\n",
        "<img src=\"http://meusite.mackenzie.br/rogerio/mackenzie_logo/UPM.2_horizontal_vermelho.jpg\" width=300, align=\"right\">\n",
        "<!-- <h1 align=left><font size = 6, style=\"color:rgb(200,0,0)\"> optional title </font></h1> -->\n"
      ]
    },
    {
      "cell_type": "markdown",
      "metadata": {
        "id": "zQX8WQPeHTwc"
      },
      "source": [
        "# **Tarefa de Aprofundamento 2** \n",
        "## Discussão do CASO: Estimando o Preço de Imóveis em São Paulo\n",
        "---\n",
        "\n",
        "<br>\n",
        "<br>\n",
        "<br>\n",
        "\n",
        "Com base na atividade *Tarefa de Aprofundamento 1*, **Pesquise e Discuta apenas uma** das perguntas a seguir."
      ]
    },
    {
      "cell_type": "markdown",
      "metadata": {
        "id": "nGZH-j05q8WZ"
      },
      "source": [
        "### 1. Qual a consequencia prática da multicolinearidade no *hot encode* dos dados? Por que? "
      ]
    },
    {
      "cell_type": "markdown",
      "metadata": {
        "id": "Oar--2gn9EJ0"
      },
      "source": [
        "*Ao utilizar o hot encode transformamos variáveis categóricas em colunas binárias, onde 1 indica qual é a categoria daquela linha especifica.\n",
        "Não é uma ótima opção para a codificação de variáveis ​​categóricas de uma perspectiva de aprendizado de máquina.\n",
        "Ele não apenas adiciona um grande número de dimensões ao conjunto de dados, como realmente não há muitas informações – algumas ocasionalmente gerando um mar de zeros. Torna difícil lidar com a otimização.\n",
        "Pior ainda, cada uma das colunas de informações esparsas tem um relacionamento linear entre si. Isso significa que uma variável pode ser facilmente prevista usando as outras, podendo causar problemas de paralelismo e multicolinearidade em altas dimensões.\n",
        "\n",
        "Porém se houver apenas três ou talvez quatro classes, a codificação one-hot pode não ser uma escolha ruim, mas é provável que valha a pena explorar as alternativas, dependendo do tamanho relativo do conjunto de dados. *\n",
        "\n",
        "> Bloco com recuo\n",
        "\n"
      ]
    },
    {
      "cell_type": "markdown",
      "metadata": {
        "id": "p32U1tt_9XBd"
      },
      "source": [
        "### 2. Na atividade você provavelmente empregou como melhor modelo um modelo com o `rsquared` maior (não o `rsquared_adj`!). Justifique. "
      ]
    },
    {
      "cell_type": "markdown",
      "metadata": {
        "id": "-tdb6x3s9XBd"
      },
      "source": [
        "*Sua resposta aqui em 1 (um) parágrafo.*"
      ]
    },
    {
      "cell_type": "markdown",
      "metadata": {
        "id": "xR8J3aMB-TjC"
      },
      "source": [
        "## Referências"
      ]
    },
    {
      "cell_type": "markdown",
      "metadata": {
        "id": "vxyPgZ60-TjC"
      },
      "source": [
        "*https://medium.com/analytics-vidhya/stop-one-hot-encoding-your-categorical-variables-bbb0fba89809*"
      ]
    }
  ]
}